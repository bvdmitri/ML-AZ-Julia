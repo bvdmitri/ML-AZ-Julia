{
 "cells": [
  {
   "cell_type": "code",
   "execution_count": 10,
   "metadata": {},
   "outputs": [],
   "source": [
    "using DataFrames\n",
    "using Statistics\n",
    "using CSV\n",
    "\n",
    "# Importing the dataset\n",
    "df = CSV.File(\"Data.csv\") |> DataFrames.DataFrame!;"
   ]
  },
  {
   "cell_type": "code",
   "execution_count": 26,
   "metadata": {},
   "outputs": [],
   "source": [
    "# Taking care of missing data\n",
    "mean_age    = mean(filter(a -> !ismissing(a), df.Age));\n",
    "mean_salary = mean(filter(a -> !ismissing(a), df.Salary));\n",
    "\n",
    "df.Age     = map(a -> ismissing(a) ? mean_age    : a, df.Age);\n",
    "df.Salary  = map(s -> ismissing(s) ? mean_salary : s, df.Salary);"
   ]
  },
  {
   "cell_type": "code",
   "execution_count": 27,
   "metadata": {},
   "outputs": [],
   "source": [
    "using CategoricalArrays\n",
    "\n",
    "# Encoding categorical data\n",
    "categorical!(df, [ :Country, :Purchased ]);"
   ]
  },
  {
   "cell_type": "code",
   "execution_count": 28,
   "metadata": {},
   "outputs": [],
   "source": [
    "X = Matrix(df[!, Not([ :Purchased, :Country ])]); # or df[!, 1:3] or : instead of ! for copy\n",
    "y = df[!, :Purchased];"
   ]
  },
  {
   "cell_type": "code",
   "execution_count": 29,
   "metadata": {},
   "outputs": [],
   "source": [
    "using MLLabelUtils\n",
    "using MLDataUtils\n",
    "\n",
    "# One-Hot encoding for Country column\n",
    "onehotcountries = convertlabel(LabelEnc.OneOfK, df[!, :Country]);\n",
    "X = hcat(transpose(onehotcountries), X);"
   ]
  },
  {
   "cell_type": "code",
   "execution_count": 30,
   "metadata": {},
   "outputs": [
    {
     "data": {
      "text/plain": [
       "10×5 Array{Real,2}:\n",
       " 1  0  0  44       72000\n",
       " 0  1  0  27       48000\n",
       " 0  0  1  30       54000\n",
       " 0  1  0  38       61000\n",
       " 0  0  1  40       63777.8\n",
       " 1  0  0  35       58000\n",
       " 0  1  0  38.7778  52000\n",
       " 1  0  0  48       79000\n",
       " 0  0  1  50       83000\n",
       " 1  0  0  37       67000"
      ]
     },
     "metadata": {},
     "output_type": "display_data"
    }
   ],
   "source": [
    "display(X)"
   ]
  },
  {
   "cell_type": "code",
   "execution_count": 31,
   "metadata": {},
   "outputs": [
    {
     "name": "stdout",
     "output_type": "stream",
     "text": [
      "CategoricalString{UInt32}[\"No\", \"Yes\", \"No\", \"No\", \"Yes\", \"Yes\", \"No\", \"Yes\", \"No\", \"Yes\"]"
     ]
    }
   ],
   "source": [
    "show(y)"
   ]
  },
  {
   "cell_type": "code",
   "execution_count": 35,
   "metadata": {},
   "outputs": [],
   "source": [
    "using Random\n",
    "\n",
    "# Splitting the dataset into the Training set and Test set\n",
    "Random.seed!(0)\n",
    "(X_train, y_train), (X_test, y_test) = splitobs(shuffleobs((X, y), obsdim = 1), at = 0.8, obsdim = 1);"
   ]
  },
  {
   "cell_type": "code",
   "execution_count": 36,
   "metadata": {},
   "outputs": [],
   "source": [
    "using MLPreprocessing\n",
    "\n",
    "scaler = fit(StandardScaler, X_train, obsdim = 1, operate_on = collect(1:size(X_train)[2]))\n",
    "\n",
    "X_train = transform(X_train, scaler);\n",
    "X_test  = transform(X_test, scaler);"
   ]
  },
  {
   "cell_type": "code",
   "execution_count": null,
   "metadata": {},
   "outputs": [],
   "source": []
  }
 ],
 "metadata": {
  "kernelspec": {
   "display_name": "Julia 1.4.0",
   "language": "julia",
   "name": "julia-1.4"
  },
  "language_info": {
   "file_extension": ".jl",
   "mimetype": "application/julia",
   "name": "julia",
   "version": "1.4.0"
  }
 },
 "nbformat": 4,
 "nbformat_minor": 4
}
