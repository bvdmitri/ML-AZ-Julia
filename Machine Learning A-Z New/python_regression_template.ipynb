{
 "cells": [
  {
   "cell_type": "code",
   "execution_count": 1,
   "metadata": {},
   "outputs": [],
   "source": [
    "# Importing the libraries\n",
    "import numpy as np\n",
    "import matplotlib.pyplot as plt\n",
    "import pandas as pd\n",
    "\n",
    "from sklearn.impute import SimpleImputer\n",
    "from sklearn.preprocessing import LabelEncoder, OneHotEncoder, StandardScaler\n",
    "from sklearn.compose import ColumnTransformer\n",
    "from sklearn.model_selection import train_test_split\n",
    "\n",
    "# Importing the dataset\n",
    "dataset = pd.read_csv('Data.csv')\n",
    "\n",
    "X = dataset.iloc[:, :-1].values\n",
    "y = dataset.iloc[:, -1].values\n",
    "\n",
    "# Taking care of missing data\n",
    "\n",
    "# imputer = SimpleImputer(strategy = 'mean')\n",
    "# imputer = imputer.fit(X[:, 1:3])\n",
    "\n",
    "# X[:, 1:3] = imputer.transform(X[:, 1:3])\n",
    "\n",
    "# Encoding categorical data\n",
    "# label_encoder_X = LabelEncoder()\n",
    "# X[:, 0] = label_encoder_X.fit_transform(X[:, 0])\n",
    "\n",
    "# One-Hot encoding for Country column\n",
    "# ct = ColumnTransformer([(\"Country\", OneHotEncoder(), [0])], remainder = 'passthrough')\n",
    "# X  = ct.fit_transform(X)\n",
    "\n",
    "# label_encoder_y = LabelEncoder()\n",
    "# y = label_encoder_y.fit_transform(y)\n",
    "\n",
    "# Splitting the dataset into the Training set and Test set\n",
    "X_train, X_test, y_train, y_test = train_test_split(X, y, test_size = 0.2, random_state = 0)\n",
    "\n",
    "# Feature scaling\n",
    "# sc_X = StandardScaler()\n",
    "# X_train = sc_X.fit_transform(X_train)\n",
    "# X_test  = sc_X.transform(X_test)\n",
    "\n",
    "# Visualising the Polynomial Regression results\n",
    "# X_grid = np.arange(min(X), max(X), 0.1)\n",
    "# X_grid = X_grid.reshape((len(X_grid), 1))\n",
    "\n",
    "# plt.scatter(X, y, color = 'red')\n",
    "# plt.plot(X_grid, linreg2.predict(polyreg.fit_transform(X_grid)))\n",
    "# plt.show()"
   ]
  },
  {
   "cell_type": "code",
   "execution_count": null,
   "metadata": {},
   "outputs": [],
   "source": []
  }
 ],
 "metadata": {
  "kernelspec": {
   "display_name": "Python 3",
   "language": "python",
   "name": "python3"
  },
  "language_info": {
   "codemirror_mode": {
    "name": "ipython",
    "version": 3
   },
   "file_extension": ".py",
   "mimetype": "text/x-python",
   "name": "python",
   "nbconvert_exporter": "python",
   "pygments_lexer": "ipython3",
   "version": "3.7.6"
  }
 },
 "nbformat": 4,
 "nbformat_minor": 4
}
