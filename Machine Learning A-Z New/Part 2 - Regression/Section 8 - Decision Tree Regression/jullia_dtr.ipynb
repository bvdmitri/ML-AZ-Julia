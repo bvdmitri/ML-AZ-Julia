{
 "cells": [
  {
   "cell_type": "code",
   "execution_count": 1,
   "metadata": {},
   "outputs": [],
   "source": [
    "# Decision Tree Regression\n",
    "\n",
    "# Data Preprocessing Template\n",
    "\n",
    "using DataFrames\n",
    "using CSV\n",
    "using Random\n",
    "using DecisionTree\n",
    "\n",
    "Random.seed!(0)\n",
    "\n",
    "# Importing the dataset\n",
    "df = CSV.File(\"Position_Salaries.csv\") |> DataFrames.DataFrame!;"
   ]
  },
  {
   "cell_type": "code",
   "execution_count": 2,
   "metadata": {},
   "outputs": [
    {
     "data": {
      "text/plain": [
       "DecisionTreeClassifier\n",
       "max_depth:                -1\n",
       "min_samples_leaf:         1\n",
       "min_samples_split:        2\n",
       "min_purity_increase:      0.0\n",
       "pruning_purity_threshold: 1.0\n",
       "n_subfeatures:            0\n",
       "classes:                  nothing\n",
       "root:                     nothing"
      ]
     },
     "execution_count": 2,
     "metadata": {},
     "output_type": "execute_result"
    }
   ],
   "source": [
    "model = DecisionTreeClassifier()"
   ]
  },
  {
   "cell_type": "code",
   "execution_count": 34,
   "metadata": {},
   "outputs": [],
   "source": [
    "X = float.(collect(reshape(df.Level, (length(df.Level), 1))));\n",
    "y = float.(collect(df.Salary));"
   ]
  },
  {
   "cell_type": "code",
   "execution_count": 35,
   "metadata": {},
   "outputs": [
    {
     "data": {
      "text/plain": [
       "DecisionTreeClassifier\n",
       "max_depth:                -1\n",
       "min_samples_leaf:         1\n",
       "min_samples_split:        2\n",
       "min_purity_increase:      0.0\n",
       "pruning_purity_threshold: 1.0\n",
       "n_subfeatures:            0\n",
       "classes:                  [45000.0, 50000.0, 60000.0, 80000.0, 110000.0, 150000.0, 200000.0, 300000.0, 500000.0, 1.0e6]\n",
       "root:                     Decision Tree\n",
       "Leaves: 10\n",
       "Depth:  6"
      ]
     },
     "execution_count": 35,
     "metadata": {},
     "output_type": "execute_result"
    }
   ],
   "source": [
    "fit!(model, X, y)"
   ]
  },
  {
   "cell_type": "code",
   "execution_count": 36,
   "metadata": {},
   "outputs": [
    {
     "name": "stdout",
     "output_type": "stream",
     "text": [
      "Feature 1, Threshold 8.5\n",
      "L-> Feature 1, Threshold 6.5\n",
      "    L-> Feature 1, Threshold 4.5\n",
      "        L-> Feature 1, Threshold 3.5\n",
      "            L-> Feature 1, Threshold 2.5\n",
      "                L-> Feature 1, Threshold 1.5\n",
      "                    L-> 45000.0 : 1/1\n",
      "                    R-> 50000.0 : 1/1\n",
      "                R-> 60000.0 : 1/1\n",
      "            R-> 80000.0 : 1/1\n",
      "        R-> Feature 1, Threshold 5.5\n",
      "            L-> 110000.0 : 1/1\n",
      "            R-> 150000.0 : 1/1\n",
      "    R-> Feature 1, Threshold 7.5\n",
      "        L-> 200000.0 : 1/1\n",
      "        R-> 300000.0 : 1/1\n",
      "R-> Feature 1, Threshold 9.5\n",
      "    L-> 500000.0 : 1/1\n",
      "    R-> 1.0e6 : 1/1\n"
     ]
    }
   ],
   "source": [
    "print_tree(model)"
   ]
  },
  {
   "cell_type": "code",
   "execution_count": 39,
   "metadata": {},
   "outputs": [
    {
     "data": {
      "image/png": "[encoded data removed]",
      "text/plain": [
       "Figure(PyObject <Figure size 640x480 with 1 Axes>)"
      ]
     },
     "metadata": {},
     "output_type": "display_data"
    }
   ],
   "source": [
    "using PyPlot\n",
    "\n",
    "X_grid = range(minimum(X), maximum(X), step = 0.01)\n",
    "X_grid = reshape(collect(X_grid), (length(X_grid), 1))\n",
    "\n",
    "scatter(X, y, color = :red)\n",
    "plot(X_grid, predict(model, X_grid))\n",
    "show()"
   ]
  },
  {
   "cell_type": "code",
   "execution_count": null,
   "metadata": {},
   "outputs": [],
   "source": []
  }
 ],
 "metadata": {
  "kernelspec": {
   "display_name": "Julia 1.4.0",
   "language": "julia",
   "name": "julia-1.4"
  },
  "language_info": {
   "file_extension": ".jl",
   "mimetype": "application/julia",
   "name": "julia",
   "version": "1.4.0"
  }
 },
 "nbformat": 4,
 "nbformat_minor": 4
}
