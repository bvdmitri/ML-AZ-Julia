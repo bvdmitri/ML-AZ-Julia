{
 "cells": [
  {
   "cell_type": "code",
   "execution_count": null,
   "metadata": {},
   "outputs": [],
   "source": [
    "# Data Preprocessing Template\n",
    "\n",
    "using DataFrames\n",
    "using Statistics\n",
    "using CSV\n",
    "using CategoricalArrays\n",
    "using MLLabelUtils\n",
    "using MLDataUtils\n",
    "using Random\n",
    "using MLPreprocessing\n",
    "\n",
    "Random.seed!(0)\n",
    "\n",
    "# Importing the dataset\n",
    "df = CSV.File(\"Data.csv\") |> DataFrames.DataFrame!;\n",
    "\n",
    "extract_features = Not([ :Purchased, :Country ])\n",
    "predictions_for  = :Purchased\n",
    "encode_one_hot   = [ :Country ]\n",
    "categorical_f    = [ :Country, :Purchased ]\n",
    "fill_missing     = [ :Age => mean, :Salary => mean ]\n",
    "split_size       = 1.0 - 0.2\n",
    "\n",
    "# Taking care of missing data\n",
    "for (entry, callback) in fill_missing\n",
    "    fill_with = callback(filter(a -> !ismissing(a), df[!, entry]))\n",
    "    setproperty!(df, entry, map(a -> ismissing(a) ? fill_with : a, df[!, entry]))\n",
    "end\n",
    "\n",
    "# Encoding categorical data\n",
    "categorical!(df, categorical_f);\n",
    "\n",
    "X = Matrix(df[!, extract_features ]); # or df[!, 1:3] or : instead of ! for copy\n",
    "y = df[!, predictions_for ];\n",
    "\n",
    "# One-Hot encoding for columns\n",
    "for entry in encode_one_hot\n",
    "    onehot = convertlabel(LabelEnc.OneOfK, df[!, entry]);\n",
    "    X = hcat(transpose(onehot), X);\n",
    "end\n",
    "\n",
    "# Splitting the dataset into the Training set and Test set\n",
    "(X_train, y_train), (X_test, y_test) = splitobs(shuffleobs((X, y), obsdim = 1), at = split_size, obsdim = 1);\n",
    "\n",
    "scaler = fit(StandardScaler, X_train, obsdim = 1, operate_on = collect(1:size(X_train)[2]))\n",
    "\n",
    "X_train = transform(X_train, scaler);\n",
    "X_test  = transform(X_test, scaler);"
   ]
  },
  {
   "cell_type": "code",
   "execution_count": null,
   "metadata": {},
   "outputs": [],
   "source": [
    "# Data Preprocessing Template\n",
    "\n",
    "using DataFrames\n",
    "using CSV\n",
    "using Random\n",
    "using MLDataUtils\n",
    "using GLM\n",
    "\n",
    "Random.seed!(0)\n",
    "\n",
    "# Importing the dataset\n",
    "df = CSV.File(\"Data.csv\") |> DataFrames.DataFrame!;\n",
    "\n",
    "(df_train, df_test) = splitobs(shuffleobs(df));\n",
    "\n",
    "regressor = lm(@formula(Salary ~ YearsExperience), df_train)"
   ]
  },
  {
   "cell_type": "code",
   "execution_count": null,
   "metadata": {},
   "outputs": [],
   "source": []
  }
 ],
 "metadata": {
  "kernelspec": {
   "display_name": "Julia 1.4.0",
   "language": "julia",
   "name": "julia-1.4"
  },
  "language_info": {
   "file_extension": ".jl",
   "mimetype": "application/julia",
   "name": "julia",
   "version": "1.4.0"
  }
 },
 "nbformat": 4,
 "nbformat_minor": 4
}
